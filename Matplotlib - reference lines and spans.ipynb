{
 "cells": [
  {
   "cell_type": "code",
   "execution_count": 56,
   "metadata": {
    "collapsed": false
   },
   "outputs": [
    {
     "data": {
      "image/png": "[encoded data removed]",
      "text/plain": [
       "<matplotlib.figure.Figure at 0x7f356f635908>"
      ]
     },
     "metadata": {},
     "output_type": "display_data"
    }
   ],
   "source": [
    "import matplotlib.pyplot as plt\n",
    "%matplotlib inline\n",
    "\n",
    "plt.title('axvline/axhline, vlines/hlines, axvspan/axhspan')\n",
    "\n",
    "# Vertical elements\n",
    "plt.axvline(x=-0.5, ymin=.25, color='red')\n",
    "plt.vlines(x=[0.6, 0.8], ymin=-.5, ymax=[0.75, 1.25], colors='blue')\n",
    "plt.axvspan(xmin=-1.25, xmax=-.75, alpha=.5, color='green')\n",
    "\n",
    "# Horizontal elements\n",
    "plt.axhline(y=0.5, xmax=.75, color='orange')\n",
    "plt.hlines(y=[0.7, 1.1], xmin=[.25, .5], xmax=0.75, color='black')\n",
    "plt.axhspan(ymin=-1., ymax=0, alpha=.5, color='purple')\n",
    "\n",
    "plt.ylim(-1.5);"
   ]
  }
 ],
 "metadata": {
  "kernelspec": {
   "display_name": "Python 3",
   "language": "python",
   "name": "python3"
  },
  "language_info": {
   "codemirror_mode": {
    "name": "ipython",
    "version": 3
   },
   "file_extension": ".py",
   "mimetype": "text/x-python",
   "name": "python",
   "nbconvert_exporter": "python",
   "pygments_lexer": "ipython3",
   "version": "3.5.1"
  },
  "widgets": {
   "state": {},
   "version": "1.1.2"
  }
 },
 "nbformat": 4,
 "nbformat_minor": 0
}
