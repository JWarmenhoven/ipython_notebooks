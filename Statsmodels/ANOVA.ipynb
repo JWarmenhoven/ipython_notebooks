{
 "cells": [
  {
   "cell_type": "code",
   "execution_count": 23,
   "metadata": {
    "collapsed": false
   },
   "outputs": [],
   "source": [
    "import pandas as pd\n",
    "import statsmodels.api as sm\n",
    "from statsmodels.formula.api import gls\n",
    "\n",
    "pd.set_option('display.notebook_repr_html', False)\n",
    "%matplotlib inline"
   ]
  },
  {
   "cell_type": "markdown",
   "metadata": {},
   "source": [
    "### One Way ANOVA"
   ]
  },
  {
   "cell_type": "code",
   "execution_count": 24,
   "metadata": {
    "collapsed": false
   },
   "outputs": [
    {
     "data": {
      "text/plain": [
       "    variable  value\n",
       "0   Machine1     47\n",
       "1   Machine1     53\n",
       "2   Machine1     49\n",
       "3   Machine1     50\n",
       "4   Machine1     46\n",
       "5   Machine2     55\n",
       "6   Machine2     54\n",
       "7   Machine2     58\n",
       "8   Machine2     61\n",
       "9   Machine2     52\n",
       "10  Machine3     54\n",
       "11  Machine3     50\n",
       "12  Machine3     51\n",
       "13  Machine3     51\n",
       "14  Machine3     49"
      ]
     },
     "execution_count": 24,
     "metadata": {},
     "output_type": "execute_result"
    }
   ],
   "source": [
    "df = pd.melt(pd.DataFrame({'Machine1':[47,53,49,50,46],\n",
    "                           'Machine2':[55,54,58,61,52],\n",
    "                           'Machine3':[54,50,51,51,49]}))\n",
    "df"
   ]
  },
  {
   "cell_type": "code",
   "execution_count": 34,
   "metadata": {
    "collapsed": false
   },
   "outputs": [],
   "source": [
    "df_lm=gls('value ~ variable', data=df).fit()"
   ]
  },
  {
   "cell_type": "code",
   "execution_count": 35,
   "metadata": {
    "collapsed": false
   },
   "outputs": [
    {
     "data": {
      "text/plain": [
       "          df  sum_sq    mean_sq         F    PR(>F)\n",
       "variable   2     130  65.000000  8.297872  0.005461\n",
       "Residual  12      94   7.833333       NaN       NaN"
      ]
     },
     "execution_count": 35,
     "metadata": {},
     "output_type": "execute_result"
    }
   ],
   "source": [
    "sm.stats.anova_lm(df_lm, typ=1)"
   ]
  },
  {
   "cell_type": "markdown",
   "metadata": {},
   "source": [
    "### Two Way ANOVA"
   ]
  },
  {
   "cell_type": "code",
   "execution_count": 27,
   "metadata": {
    "collapsed": false
   },
   "outputs": [
    {
     "data": {
      "text/plain": [
       "   Operator  variable  value\n",
       "0         A  Machine1     53\n",
       "1         B  Machine1     47\n",
       "2         C  Machine1     46\n",
       "3         D  Machine1     50\n",
       "4         E  Machine1     49\n",
       "5         A  Machine2     61\n",
       "6         B  Machine2     55\n",
       "7         C  Machine2     52\n",
       "8         D  Machine2     58\n",
       "9         E  Machine2     54\n",
       "10        A  Machine3     51\n",
       "11        B  Machine3     51\n",
       "12        C  Machine3     49\n",
       "13        D  Machine3     54\n",
       "14        E  Machine3     50"
      ]
     },
     "execution_count": 27,
     "metadata": {},
     "output_type": "execute_result"
    }
   ],
   "source": [
    "df2 = pd.melt(pd.DataFrame({'Machine1':[53,47,46,50,49],\n",
    "                           'Machine2':[61,55,52,58,54],\n",
    "                           'Machine3':[51,51,49,54,50],\n",
    "                           'Operator':['A','B','C','D','E']}),\n",
    "              id_vars=['Operator'],\n",
    "              value_vars=['Machine1', 'Machine2', 'Machine3'])\n",
    "df2"
   ]
  },
  {
   "cell_type": "code",
   "execution_count": 28,
   "metadata": {
    "collapsed": false
   },
   "outputs": [],
   "source": [
    "df2_lm=gls('value ~ variable + Operator', data=df2).fit()"
   ]
  },
  {
   "cell_type": "code",
   "execution_count": 29,
   "metadata": {
    "collapsed": false
   },
   "outputs": [
    {
     "data": {
      "text/plain": [
       "          sum_sq  df          F    PR(>F)\n",
       "variable     130   2  23.636364  0.000439\n",
       "Operator      72   4   6.545455  0.012193\n",
       "Residual      22   8        NaN       NaN"
      ]
     },
     "execution_count": 29,
     "metadata": {},
     "output_type": "execute_result"
    }
   ],
   "source": [
    "sm.stats.anova_lm(df2_lm, typ=2)"
   ]
  }
 ],
 "metadata": {
  "kernelspec": {
   "display_name": "Python 3",
   "language": "python",
   "name": "python3"
  },
  "language_info": {
   "codemirror_mode": {
    "name": "ipython",
    "version": 3
   },
   "file_extension": ".py",
   "mimetype": "text/x-python",
   "name": "python",
   "nbconvert_exporter": "python",
   "pygments_lexer": "ipython3",
   "version": "3.4.3"
  }
 },
 "nbformat": 4,
 "nbformat_minor": 0
}
