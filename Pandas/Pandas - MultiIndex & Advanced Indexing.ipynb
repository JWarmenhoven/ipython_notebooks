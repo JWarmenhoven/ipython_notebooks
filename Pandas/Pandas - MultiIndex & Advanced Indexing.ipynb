{
 "cells": [
  {
   "cell_type": "code",
   "execution_count": 1,
   "metadata": {
    "collapsed": true
   },
   "outputs": [],
   "source": [
    "# %load ../standard_import.txt\n",
    "import pandas as pd\n",
    "import numpy as np\n",
    "import matplotlib.pyplot as plt\n",
    "\n",
    "pd.set_option('display.notebook_repr_html', False)\n",
    "pd.set_option('display.max_columns', None)\n",
    "pd.set_option('display.max_rows', 150)\n",
    "pd.set_option('display.max_seq_items', None)\n",
    "\n",
    "%matplotlib inline\n",
    "%config InlineBackend.figure_formats = {'svg',}\n",
    "\n",
    "#import seaborn as sns\n",
    "#sns.set_context('notebook')\n",
    "#sns.set_style('darkgrid')"
   ]
  },
  {
   "cell_type": "code",
   "execution_count": 2,
   "metadata": {
    "collapsed": false
   },
   "outputs": [
    {
     "data": {
      "text/plain": [
       "Machine type      OB11     HH90\n",
       "MachineID           M1  M2   M3\n",
       "Operator Facility              \n",
       "A        XX         53  47   46\n",
       "         YY         50  49   48\n",
       "B        XX         61  55   52\n",
       "         YY         58  54   57\n",
       "C        XX         51  51   49\n",
       "         YY         54  50   55"
      ]
     },
     "execution_count": 2,
     "metadata": {},
     "output_type": "execute_result"
    }
   ],
   "source": [
    "# Creating DataFrame with MultiIndexes on both axis\n",
    "idx = pd.MultiIndex.from_product([['A','B','C'],['XX', 'YY']], names=['Operator', 'Facility'])\n",
    "\n",
    "arrays = np.array(['OB11', 'OB11', 'HH90']), np.array(['M1', 'M2', 'M3'])\n",
    "idx2 = pd.MultiIndex.from_arrays(arrays, names=['Machine type', 'MachineID'])\n",
    "\n",
    "df = pd.DataFrame([[53,47,46],\n",
    "                   [50,49,48],\n",
    "                   [61,55,52],\n",
    "                   [58,54,57],\n",
    "                   [51,51,49],\n",
    "                   [54,50,55]], index=idx, columns=idx2)\n",
    "df"
   ]
  }
 ],
 "metadata": {
  "kernelspec": {
   "display_name": "Python 3",
   "language": "python",
   "name": "python3"
  },
  "language_info": {
   "codemirror_mode": {
    "name": "ipython",
    "version": 3
   },
   "file_extension": ".py",
   "mimetype": "text/x-python",
   "name": "python",
   "nbconvert_exporter": "python",
   "pygments_lexer": "ipython3",
   "version": "3.4.3"
  }
 },
 "nbformat": 4,
 "nbformat_minor": 0
}
