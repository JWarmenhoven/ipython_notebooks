{
 "cells": [
  {
   "cell_type": "code",
   "execution_count": 2,
   "metadata": {
    "collapsed": true
   },
   "outputs": [],
   "source": [
    "# %load ../standard_import.txt\n",
    "import pandas as pd\n",
    "import numpy as np\n",
    "import matplotlib as mpl\n",
    "import matplotlib.pyplot as plt\n",
    "\n",
    "pd.set_option('display.notebook_repr_html', False)\n",
    "pd.set_option('display.max_columns', None)\n",
    "pd.set_option('display.max_rows', 150)\n",
    "pd.set_option('display.max_seq_items', None)\n",
    " \n",
    "#%config InlineBackend.figure_formats = {'pdf',}\n",
    "%matplotlib inline\n",
    "\n",
    "import seaborn as sns\n",
    "sns.set_context('notebook')\n",
    "sns.set_style('darkgrid')"
   ]
  },
  {
   "cell_type": "code",
   "execution_count": 27,
   "metadata": {
    "collapsed": false
   },
   "outputs": [
    {
     "data": {
      "text/plain": [
       "Machine type            OB11     HH90\n",
       "MachineID                 M1  M2   M3\n",
       "Operator Facility Shift              \n",
       "A        XX       1       35   1   38\n",
       "                  2       30   4   46\n",
       "         YY       1       28   7   42\n",
       "                  2       21   5   19\n",
       "         ZZ       1       25  18   42\n",
       "                  2       35   9   31\n",
       "B        XX       1       20  44   20\n",
       "                  2       33  22   33\n",
       "         YY       1       49  30   16\n",
       "                  2        3  17   30\n",
       "         ZZ       1       12   8    7\n",
       "                  2       38  41   13\n",
       "C        XX       1       22  31   46\n",
       "                  2       41  14   15\n",
       "         YY       1       38  23   12\n",
       "                  2       26   0    1\n",
       "         ZZ       1        7  46   24\n",
       "                  2       12   1   44\n",
       "D        XX       1       32   3    5\n",
       "                  2       14  45   38\n",
       "         YY       1       12  33   40\n",
       "                  2       49   5   34\n",
       "         ZZ       1       12  11   44\n",
       "                  2       11  17    8"
      ]
     },
     "execution_count": 27,
     "metadata": {},
     "output_type": "execute_result"
    }
   ],
   "source": [
    "# Creating DataFrame with MultiIndexes on both axis\n",
    "idx = pd.MultiIndex.from_product([['A','B','C','D'],['XX', 'YY', 'ZZ'], [1,2]], names=['Operator', 'Facility', 'Shift'])\n",
    "\n",
    "arrays = np.array(['OB11', 'OB11', 'HH90']), np.array(['M1', 'M2', 'M3'])\n",
    "idx2 = pd.MultiIndex.from_arrays(arrays, names=['Machine type', 'MachineID'])\n",
    "\n",
    "df = pd.DataFrame(np.random.randint(0, 50, (24,3)), index=idx, columns=idx2)\n",
    "df"
   ]
  },
  {
   "cell_type": "markdown",
   "metadata": {},
   "source": [
    "### Slicing"
   ]
  },
  {
   "cell_type": "code",
   "execution_count": 48,
   "metadata": {
    "collapsed": false
   },
   "outputs": [
    {
     "data": {
      "text/plain": [
       "Machine type            HH90 OB11\n",
       "MachineID                 M3   M1\n",
       "Operator Facility Shift          \n",
       "B        XX       2       33   33\n",
       "         YY       2       30    3\n",
       "         ZZ       2       13   38\n",
       "D        XX       2       38   14\n",
       "         YY       2       34   49\n",
       "         ZZ       2        8   11"
      ]
     },
     "execution_count": 48,
     "metadata": {},
     "output_type": "execute_result"
    }
   ],
   "source": [
    "# Index must be sorted\n",
    "df.sort_index(axis=1,inplace=True)\n",
    "df.sort_index(axis=0,inplace=True)\n",
    "\n",
    "idx = pd.IndexSlice\n",
    "df.loc[idx[['B','D'], :, 2],idx[:,['M1','M3']]]"
   ]
  }
 ],
 "metadata": {
  "kernelspec": {
   "display_name": "Python 3",
   "language": "python",
   "name": "python3"
  },
  "language_info": {
   "codemirror_mode": {
    "name": "ipython",
    "version": 3
   },
   "file_extension": ".py",
   "mimetype": "text/x-python",
   "name": "python",
   "nbconvert_exporter": "python",
   "pygments_lexer": "ipython3",
   "version": "3.4.3"
  }
 },
 "nbformat": 4,
 "nbformat_minor": 0
}
