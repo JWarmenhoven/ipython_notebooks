{
 "metadata": {
  "name": "",
  "signature": "sha256:2a360136337a9293fb42e1a3f020daf22c587a5343a7d15aa13efa810e17175e"
 },
 "nbformat": 3,
 "nbformat_minor": 0,
 "worksheets": [
  {
   "cells": [
    {
     "cell_type": "code",
     "collapsed": false,
     "input": [
      "import numpy as np\n",
      "import pandas as pd\n",
      "\n",
      "pd.set_option('display.notebook_repr_html', False)\n",
      "%matplotlib inline"
     ],
     "language": "python",
     "metadata": {},
     "outputs": [],
     "prompt_number": 5
    },
    {
     "cell_type": "code",
     "collapsed": false,
     "input": [
      "df = pd.DataFrame({'data1':[10,5,25,30,10],\n",
      "                   'data2':[4,2,8,6,4],\n",
      "                   'key1':['a','b','a','a','b'],\n",
      "                   'key2':['x','x','x','z','z']})\n",
      "df"
     ],
     "language": "python",
     "metadata": {},
     "outputs": [
      {
       "metadata": {},
       "output_type": "pyout",
       "prompt_number": 6,
       "text": [
        "   data1  data2 key1 key2\n",
        "0     10      4    a    x\n",
        "1      5      2    b    x\n",
        "2     25      8    a    x\n",
        "3     30      6    a    z\n",
        "4     10      4    b    z"
       ]
      }
     ],
     "prompt_number": 6
    },
    {
     "cell_type": "heading",
     "level": 3,
     "metadata": {},
     "source": [
      "Groupby"
     ]
    },
    {
     "cell_type": "code",
     "collapsed": false,
     "input": [
      "#as_index=False --> no index created based on keys\n",
      "df.groupby(['key1','key2'], as_index=False).mean()"
     ],
     "language": "python",
     "metadata": {},
     "outputs": [
      {
       "metadata": {},
       "output_type": "pyout",
       "prompt_number": 33,
       "text": [
        "  key1 key2  data1  data2\n",
        "0    a    x   17.5      6\n",
        "1    a    z   30.0      6\n",
        "2    b    x    5.0      2\n",
        "3    b    z   10.0      4"
       ]
      }
     ],
     "prompt_number": 33
    },
    {
     "cell_type": "code",
     "collapsed": false,
     "input": [
      "grouped = df.groupby(['key1','key2'])\n",
      "grouped.mean()"
     ],
     "language": "python",
     "metadata": {},
     "outputs": [
      {
       "metadata": {},
       "output_type": "pyout",
       "prompt_number": 48,
       "text": [
        "           data1  data2\n",
        "key1 key2              \n",
        "a    x      17.5      6\n",
        "     z      30.0      6\n",
        "b    x       5.0      2\n",
        "     z      10.0      4"
       ]
      }
     ],
     "prompt_number": 48
    },
    {
     "cell_type": "code",
     "collapsed": false,
     "input": [
      "#same as above \n",
      "grouped.agg('mean')"
     ],
     "language": "python",
     "metadata": {},
     "outputs": [
      {
       "metadata": {},
       "output_type": "pyout",
       "prompt_number": 21,
       "text": [
        "           data1  data2\n",
        "key1 key2              \n",
        "a    x      17.5      6\n",
        "     z      30.0      6\n",
        "b    x       5.0      2\n",
        "     z      10.0      4"
       ]
      }
     ],
     "prompt_number": 21
    },
    {
     "cell_type": "code",
     "collapsed": false,
     "input": [
      "#add prefix\n",
      "grouped.agg('min').add_prefix('JORDI_')"
     ],
     "language": "python",
     "metadata": {},
     "outputs": [
      {
       "metadata": {},
       "output_type": "pyout",
       "prompt_number": 106,
       "text": [
        "           JORDI_data1  JORDI_data2\n",
        "key1 key2                          \n",
        "a    x              10            4\n",
        "     z              30            6\n",
        "b    x               5            2\n",
        "     z              10            4"
       ]
      }
     ],
     "prompt_number": 106
    },
    {
     "cell_type": "code",
     "collapsed": false,
     "input": [
      "#multiple functions to all columns and passing own labels\n",
      "grouped.agg([('Own label','mean'), ('My label', 'sum')])"
     ],
     "language": "python",
     "metadata": {},
     "outputs": [
      {
       "metadata": {},
       "output_type": "pyout",
       "prompt_number": 153,
       "text": [
        "              data1              data2         \n",
        "          Own label My label Own label My label\n",
        "key1 key2                                      \n",
        "a    x         17.5       35         6       12\n",
        "     z         30.0       30         6        6\n",
        "b    x          5.0        5         2        2\n",
        "     z         10.0       10         4        4"
       ]
      }
     ],
     "prompt_number": 153
    },
    {
     "cell_type": "code",
     "collapsed": false,
     "input": [
      "#multiple functions to selected columns. Unable to set own labels?!\n",
      "grouped.agg({'data1': np.max, 'data2': 'sum'})"
     ],
     "language": "python",
     "metadata": {},
     "outputs": [
      {
       "metadata": {},
       "output_type": "pyout",
       "prompt_number": 86,
       "text": [
        "           data1  data2\n",
        "key1 key2              \n",
        "a    x        25     12\n",
        "     z        30      6\n",
        "b    x         5      2\n",
        "     z        10      4"
       ]
      }
     ],
     "prompt_number": 86
    },
    {
     "cell_type": "heading",
     "level": 3,
     "metadata": {},
     "source": [
      "Iterating over groups"
     ]
    },
    {
     "cell_type": "code",
     "collapsed": false,
     "input": [
      "#using groupby object\n",
      "for (k1, k2), groupdata in grouped:\n",
      "    print(k1, k2)\n",
      "    print(groupdata)"
     ],
     "language": "python",
     "metadata": {},
     "outputs": [
      {
       "output_type": "stream",
       "stream": "stdout",
       "text": [
        "a x\n",
        "   data1  data2 key1 key2\n",
        "0     10      4    a    x\n",
        "2     25      8    a    x"
       ]
      },
      {
       "output_type": "stream",
       "stream": "stdout",
       "text": [
        "\n",
        "a z\n",
        "   data1  data2 key1 key2\n",
        "3     30      6    a    z"
       ]
      },
      {
       "output_type": "stream",
       "stream": "stdout",
       "text": [
        "\n",
        "b x\n",
        "   data1  data2 key1 key2\n",
        "1      5      2    b    x"
       ]
      },
      {
       "output_type": "stream",
       "stream": "stdout",
       "text": [
        "\n",
        "b z\n",
        "   data1  data2 key1 key2\n",
        "4     10      4    b    z"
       ]
      },
      {
       "output_type": "stream",
       "stream": "stdout",
       "text": [
        "\n"
       ]
      }
     ],
     "prompt_number": 55
    },
    {
     "cell_type": "code",
     "collapsed": false,
     "input": [
      "#retrieving specific groups\n",
      "grouped.groups"
     ],
     "language": "python",
     "metadata": {},
     "outputs": [
      {
       "metadata": {},
       "output_type": "pyout",
       "prompt_number": 89,
       "text": [
        "{('b', 'z'): [4], ('a', 'z'): [3], ('b', 'x'): [1], ('a', 'x'): [0, 2]}"
       ]
      }
     ],
     "prompt_number": 89
    },
    {
     "cell_type": "code",
     "collapsed": false,
     "input": [
      "grouped.get_group(('a','x'))"
     ],
     "language": "python",
     "metadata": {},
     "outputs": [
      {
       "metadata": {},
       "output_type": "pyout",
       "prompt_number": 101,
       "text": [
        "   data1  data2 key1 key2\n",
        "0     10      4    a    x\n",
        "2     25      8    a    x"
       ]
      }
     ],
     "prompt_number": 101
    },
    {
     "cell_type": "code",
     "collapsed": false,
     "input": [
      "#converting group data into dict\n",
      "list(grouped)"
     ],
     "language": "python",
     "metadata": {},
     "outputs": [
      {
       "metadata": {},
       "output_type": "pyout",
       "prompt_number": 69,
       "text": [
        "[(('a', 'x'),    data1  data2 key1 key2\n",
        "  0     10      4    a    x\n",
        "  2     25      8    a    x), (('a', 'z'),    data1  data2 key1 key2\n",
        "  3     30      6    a    z), (('b', 'x'),    data1  data2 key1 key2\n",
        "  1      5      2    b    x), (('b', 'z'),    data1  data2 key1 key2\n",
        "  4     10      4    b    z)]"
       ]
      }
     ],
     "prompt_number": 69
    },
    {
     "cell_type": "code",
     "collapsed": false,
     "input": [
      "dict(list(grouped))['b','x']"
     ],
     "language": "python",
     "metadata": {},
     "outputs": [
      {
       "metadata": {},
       "output_type": "pyout",
       "prompt_number": 70,
       "text": [
        "   data1  data2 key1 key2\n",
        "1      5      2    b    x"
       ]
      }
     ],
     "prompt_number": 70
    },
    {
     "cell_type": "heading",
     "level": 3,
     "metadata": {},
     "source": [
      "Group-wise operations and transformations"
     ]
    },
    {
     "cell_type": "code",
     "collapsed": false,
     "input": [
      "df"
     ],
     "language": "python",
     "metadata": {},
     "outputs": [
      {
       "metadata": {},
       "output_type": "pyout",
       "prompt_number": 117,
       "text": [
        "   data1  data2 key1 key2\n",
        "0     10      4    a    x\n",
        "1      5      2    b    x\n",
        "2     25      8    a    x\n",
        "3     30      6    a    z\n",
        "4     10      4    b    z"
       ]
      }
     ],
     "prompt_number": 117
    },
    {
     "cell_type": "code",
     "collapsed": false,
     "input": [
      "grouped = df.groupby(['key1','key2'])\n",
      "grouped.transform('mean')\n",
      "#function is executed on groups and result is broadcasted on indexes"
     ],
     "language": "python",
     "metadata": {},
     "outputs": [
      {
       "metadata": {},
       "output_type": "pyout",
       "prompt_number": 116,
       "text": [
        "   data1  data2\n",
        "0     17      6\n",
        "1      5      2\n",
        "2     17      6\n",
        "3     30      6\n",
        "4     10      4"
       ]
      }
     ],
     "prompt_number": 116
    },
    {
     "cell_type": "code",
     "collapsed": false,
     "input": [
      "def foo(df, column='data2', n=1):\n",
      "    return df.sort_index(by=column)[-n:]"
     ],
     "language": "python",
     "metadata": {},
     "outputs": [],
     "prompt_number": 134
    },
    {
     "cell_type": "code",
     "collapsed": false,
     "input": [
      "df.sort_index(by='data2')"
     ],
     "language": "python",
     "metadata": {},
     "outputs": [
      {
       "metadata": {},
       "output_type": "pyout",
       "prompt_number": 137,
       "text": [
        "   data1  data2 key1 key2\n",
        "1      5      2    b    x\n",
        "0     10      4    a    x\n",
        "4     10      4    b    z\n",
        "3     30      6    a    z\n",
        "2     25      8    a    x"
       ]
      }
     ],
     "prompt_number": 137
    },
    {
     "cell_type": "code",
     "collapsed": false,
     "input": [
      "df.groupby('key1').apply(foo)"
     ],
     "language": "python",
     "metadata": {},
     "outputs": [
      {
       "metadata": {},
       "output_type": "pyout",
       "prompt_number": 135,
       "text": [
        "        data1  data2 key1 key2\n",
        "key1                          \n",
        "a    2     25      8    a    x\n",
        "b    4     10      4    b    z"
       ]
      }
     ],
     "prompt_number": 135
    },
    {
     "cell_type": "heading",
     "level": 3,
     "metadata": {},
     "source": [
      "Pivot tables"
     ]
    },
    {
     "cell_type": "code",
     "collapsed": false,
     "input": [
      "df.pivot_table(index=['key1'], columns=['key2'])"
     ],
     "language": "python",
     "metadata": {},
     "outputs": [
      {
       "metadata": {},
       "output_type": "pyout",
       "prompt_number": 148,
       "text": [
        "     data1     data2   \n",
        "key2     x   z     x  z\n",
        "key1                   \n",
        "a     17.5  30     6  6\n",
        "b      5.0  10     2  4"
       ]
      }
     ],
     "prompt_number": 148
    },
    {
     "cell_type": "heading",
     "level": 3,
     "metadata": {},
     "source": [
      "Discretization and Binning"
     ]
    },
    {
     "cell_type": "code",
     "collapsed": false,
     "input": [
      "ages = [20,22,25,27,21,23,37,31,61,54,41,32]\n",
      "bins = [18,25,35,60,100]\n",
      "cats = pd.cut(ages ,bins)\n",
      "cats"
     ],
     "language": "python",
     "metadata": {},
     "outputs": [
      {
       "metadata": {},
       "output_type": "pyout",
       "prompt_number": 5,
       "text": [
        "[(18, 25], (18, 25], (18, 25], (25, 35], (18, 25], ..., (25, 35], (60, 100], (35, 60], (35, 60], (25, 35]]\n",
        "Length: 12\n",
        "Categories (4, object): [(18, 25] < (25, 35] < (35, 60] < (60, 100]]"
       ]
      }
     ],
     "prompt_number": 5
    },
    {
     "cell_type": "code",
     "collapsed": false,
     "input": [
      "cats.rename_categories(['a','b','c','d'], inplace=True)"
     ],
     "language": "python",
     "metadata": {},
     "outputs": [],
     "prompt_number": 12
    },
    {
     "cell_type": "code",
     "collapsed": false,
     "input": [
      "cats.remove_categories(['c'])"
     ],
     "language": "python",
     "metadata": {},
     "outputs": [
      {
       "metadata": {},
       "output_type": "pyout",
       "prompt_number": 17,
       "text": [
        "[a, a, a, b, a, ..., b, d, NaN, NaN, b]\n",
        "Length: 12\n",
        "Categories (3, object): [a < b < d]"
       ]
      }
     ],
     "prompt_number": 17
    }
   ],
   "metadata": {}
  }
 ]
}