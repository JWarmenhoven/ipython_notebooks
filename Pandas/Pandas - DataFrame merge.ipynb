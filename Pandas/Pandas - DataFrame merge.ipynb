{
 "metadata": {
  "name": "",
  "signature": "sha256:84a33fa767ce8f6489201c47a6d41c5773c527fc15791ef6a90e1e53d00fac69"
 },
 "nbformat": 3,
 "nbformat_minor": 0,
 "worksheets": [
  {
   "cells": [
    {
     "cell_type": "code",
     "collapsed": false,
     "input": [
      "import numpy as np\n",
      "import pandas as pd\n",
      "pd.set_option('display.notebook_repr_html', False)"
     ],
     "language": "python",
     "metadata": {},
     "outputs": [],
     "prompt_number": 2
    },
    {
     "cell_type": "code",
     "collapsed": false,
     "input": [
      "df1 = pd.DataFrame({'item': ['a', 'b', 'c', 'd', 'e'], 'iclass': ['A3', 'A3', 'B4', 8, 1], 'value': [10, 20, 30, 40, 50]})\n",
      "df2 = pd.DataFrame({'item': ['a', 'c', 'd', 'e', 'f'], 'iclass' : ['A3', 'B4', 8, 1, 'C1'], 'value': [55, 44, 33, 22, 11]})\n",
      "dfm = pd.DataFrame({'iclass': ['A3', 'B4', 8, 'D6'], 'grp': ['WIP', 'RM', 'FG', 'None']})"
     ],
     "language": "python",
     "metadata": {},
     "outputs": [],
     "prompt_number": 3
    },
    {
     "cell_type": "code",
     "collapsed": false,
     "input": [
      "print(df1)\n",
      "print(df2)\n",
      "print(dfm)"
     ],
     "language": "python",
     "metadata": {},
     "outputs": [
      {
       "output_type": "stream",
       "stream": "stdout",
       "text": [
        "  iclass item  value\n",
        "0     A3    a     10\n",
        "1     A3    b     20\n",
        "2     B4    c     30\n",
        "3      8    d     40\n",
        "4      1    e     50\n",
        "  iclass item  value\n",
        "0     A3    a     55\n",
        "1     B4    c     44\n",
        "2      8    d     33\n",
        "3      1    e     22\n",
        "4     C1    f     11"
       ]
      },
      {
       "output_type": "stream",
       "stream": "stdout",
       "text": [
        "\n",
        "    grp iclass\n",
        "0   WIP     A3\n",
        "1    RM     B4\n",
        "2    FG      8\n",
        "3  None     D6"
       ]
      },
      {
       "output_type": "stream",
       "stream": "stdout",
       "text": [
        "\n"
       ]
      }
     ],
     "prompt_number": 4
    },
    {
     "cell_type": "code",
     "collapsed": false,
     "input": [
      "df1['M']=0\n",
      "df2['M']=1"
     ],
     "language": "python",
     "metadata": {},
     "outputs": [],
     "prompt_number": 5
    },
    {
     "cell_type": "code",
     "collapsed": false,
     "input": [
      "concat = pd.concat([df1,df2])"
     ],
     "language": "python",
     "metadata": {},
     "outputs": [],
     "prompt_number": 6
    },
    {
     "cell_type": "code",
     "collapsed": true,
     "input": [
      "concat"
     ],
     "language": "python",
     "metadata": {},
     "outputs": [
      {
       "metadata": {},
       "output_type": "pyout",
       "prompt_number": 7,
       "text": [
        "  iclass item  value  M\n",
        "0     A3    a     10  0\n",
        "1     A3    b     20  0\n",
        "2     B4    c     30  0\n",
        "3      8    d     40  0\n",
        "4      1    e     50  0\n",
        "0     A3    a     55  1\n",
        "1     B4    c     44  1\n",
        "2      8    d     33  1\n",
        "3      1    e     22  1\n",
        "4     C1    f     11  1"
       ]
      }
     ],
     "prompt_number": 7
    },
    {
     "cell_type": "code",
     "collapsed": false,
     "input": [
      "merged = concat.merge(dfm, how='left', on='iclass')"
     ],
     "language": "python",
     "metadata": {},
     "outputs": [],
     "prompt_number": 8
    },
    {
     "cell_type": "code",
     "collapsed": false,
     "input": [
      "merged"
     ],
     "language": "python",
     "metadata": {},
     "outputs": [
      {
       "metadata": {},
       "output_type": "pyout",
       "prompt_number": 9,
       "text": [
        "  iclass item  value  M  grp\n",
        "0     A3    a     10  0  WIP\n",
        "1     A3    b     20  0  WIP\n",
        "2     A3    a     55  1  WIP\n",
        "3     B4    c     30  0   RM\n",
        "4     B4    c     44  1   RM\n",
        "5      8    d     40  0   FG\n",
        "6      8    d     33  1   FG\n",
        "7      1    e     50  0  NaN\n",
        "8      1    e     22  1  NaN\n",
        "9     C1    f     11  1  NaN"
       ]
      }
     ],
     "prompt_number": 9
    },
    {
     "cell_type": "code",
     "collapsed": false,
     "input": [
      "reindexed = merged.set_index(['M', 'item'])"
     ],
     "language": "python",
     "metadata": {},
     "outputs": [],
     "prompt_number": 10
    },
    {
     "cell_type": "code",
     "collapsed": false,
     "input": [
      "reindexed"
     ],
     "language": "python",
     "metadata": {},
     "outputs": [
      {
       "metadata": {},
       "output_type": "pyout",
       "prompt_number": 11,
       "text": [
        "       iclass  value  grp\n",
        "M item                   \n",
        "0 a        A3     10  WIP\n",
        "  b        A3     20  WIP\n",
        "1 a        A3     55  WIP\n",
        "0 c        B4     30   RM\n",
        "1 c        B4     44   RM\n",
        "0 d         8     40   FG\n",
        "1 d         8     33   FG\n",
        "0 e         1     50  NaN\n",
        "1 e         1     22  NaN\n",
        "  f        C1     11  NaN"
       ]
      }
     ],
     "prompt_number": 11
    },
    {
     "cell_type": "code",
     "collapsed": false,
     "input": [
      "sort = reindexed.sortlevel()"
     ],
     "language": "python",
     "metadata": {},
     "outputs": [],
     "prompt_number": 12
    },
    {
     "cell_type": "code",
     "collapsed": false,
     "input": [
      "sort"
     ],
     "language": "python",
     "metadata": {},
     "outputs": [
      {
       "metadata": {},
       "output_type": "pyout",
       "prompt_number": 13,
       "text": [
        "       iclass  value  grp\n",
        "M item                   \n",
        "0 a        A3     10  WIP\n",
        "  b        A3     20  WIP\n",
        "  c        B4     30   RM\n",
        "  d         8     40   FG\n",
        "  e         1     50  NaN\n",
        "1 a        A3     55  WIP\n",
        "  c        B4     44   RM\n",
        "  d         8     33   FG\n",
        "  e         1     22  NaN\n",
        "  f        C1     11  NaN"
       ]
      }
     ],
     "prompt_number": 13
    },
    {
     "cell_type": "code",
     "collapsed": false,
     "input": [
      "grouped = merged.value.groupby([merged.grp, merged.M])"
     ],
     "language": "python",
     "metadata": {},
     "outputs": [],
     "prompt_number": 14
    },
    {
     "cell_type": "code",
     "collapsed": false,
     "input": [
      "graph = grouped.sum()"
     ],
     "language": "python",
     "metadata": {},
     "outputs": [],
     "prompt_number": 15
    },
    {
     "cell_type": "code",
     "collapsed": false,
     "input": [
      "graph"
     ],
     "language": "python",
     "metadata": {},
     "outputs": [
      {
       "metadata": {},
       "output_type": "pyout",
       "prompt_number": 16,
       "text": [
        "grp  M\n",
        "FG   0    40\n",
        "     1    33\n",
        "RM   0    30\n",
        "     1    44\n",
        "WIP  0    30\n",
        "     1    55\n",
        "dtype: int64"
       ]
      }
     ],
     "prompt_number": 16
    },
    {
     "cell_type": "code",
     "collapsed": false,
     "input": [
      "graph.plot(kind='bar')\n",
      "plt.xticks(rotation=45)"
     ],
     "language": "python",
     "metadata": {},
     "outputs": [
      {
       "metadata": {},
       "output_type": "pyout",
       "prompt_number": 22,
       "text": [
        "(array([0, 1, 2, 3, 4, 5]), <a list of 6 Text xticklabel objects>)"
       ]
      },
      {
       "metadata": {},
       "output_type": "display_data",
       "png": "[encoded data removed]",
       "text": [
        "<matplotlib.figure.Figure at 0x32f70b0>"
       ]
      }
     ],
     "prompt_number": 22
    },
    {
     "cell_type": "code",
     "collapsed": false,
     "input": [],
     "language": "python",
     "metadata": {},
     "outputs": [],
     "prompt_number": 17
    }
   ],
   "metadata": {}
  }
 ]
}