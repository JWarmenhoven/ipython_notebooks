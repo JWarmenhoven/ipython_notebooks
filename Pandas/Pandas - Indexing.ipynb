{
 "cells": [
  {
   "cell_type": "code",
   "execution_count": 2,
   "metadata": {
    "collapsed": true
   },
   "outputs": [],
   "source": [
    "# %load ../standard_import.txt\n",
    "import pandas as pd\n",
    "import numpy as np\n",
    "import matplotlib as mpl\n",
    "import matplotlib.pyplot as plt\n",
    "\n",
    "pd.set_option('display.notebook_repr_html', False)\n",
    "pd.set_option('display.max_columns', None)\n",
    "pd.set_option('display.max_rows', 150)\n",
    "pd.set_option('display.max_seq_items', None)\n",
    " \n",
    "#%config InlineBackend.figure_formats = {'pdf',}\n",
    "%matplotlib inline\n",
    "\n",
    "import seaborn as sns\n",
    "sns.set_context('notebook')\n",
    "sns.set_style('darkgrid')"
   ]
  },
  {
   "cell_type": "markdown",
   "metadata": {},
   "source": [
    "### where( )\n",
    "- Boolean indexing but retaining original shape of data (for Series).\n",
    "- Replacement options"
   ]
  },
  {
   "cell_type": "code",
   "execution_count": 12,
   "metadata": {
    "collapsed": false
   },
   "outputs": [
    {
     "data": {
      "text/plain": [
       "                   A         B         C         D\n",
       "2015-01-01  0.657919 -0.212726  0.842869 -1.366206\n",
       "2015-01-02  0.483159 -0.283143 -0.723116 -0.694739\n",
       "2015-01-03 -1.328146 -1.923179 -0.578999 -0.902172\n",
       "2015-01-04       NaN       NaN       NaN       NaN\n",
       "2015-01-05 -0.233025 -0.379335  1.163860  0.852996\n",
       "2015-01-06  0.087206  0.692262 -0.264934 -0.861378\n",
       "2015-01-07  0.677980  2.010400 -0.906443 -0.301450\n",
       "2015-01-08  1.017174  0.106838  0.855558 -0.666773"
      ]
     },
     "execution_count": 12,
     "metadata": {},
     "output_type": "execute_result"
    }
   ],
   "source": [
    "s = pd.Series([0,1,2,3,4,5])\n",
    "\n",
    "dates = pd.date_range('2015-1-1', periods=8)\n",
    "df = pd.DataFrame(np.random.randn(8, 4), index=dates, columns=['A', 'B', 'C', 'D'])\n",
    "df.iloc[3] = np.NaN\n",
    "df"
   ]
  },
  {
   "cell_type": "code",
   "execution_count": 37,
   "metadata": {
    "collapsed": false
   },
   "outputs": [
    {
     "data": {
      "text/plain": [
       "                   A         B         C         D\n",
       "2015-01-01  0.657919       NaN  0.842869       NaN\n",
       "2015-01-02  0.483159       NaN       NaN       NaN\n",
       "2015-01-03       NaN       NaN       NaN       NaN\n",
       "2015-01-04       NaN       NaN       NaN       NaN\n",
       "2015-01-05       NaN       NaN  1.163860  0.852996\n",
       "2015-01-06  0.087206  0.692262       NaN       NaN\n",
       "2015-01-07  0.677980  2.010400       NaN       NaN\n",
       "2015-01-08  1.017174  0.106838  0.855558       NaN"
      ]
     },
     "execution_count": 37,
     "metadata": {},
     "output_type": "execute_result"
    }
   ],
   "source": [
    "df[df>0]"
   ]
  },
  {
   "cell_type": "markdown",
   "metadata": {},
   "source": [
    "#### Same as ..."
   ]
  },
  {
   "cell_type": "code",
   "execution_count": 38,
   "metadata": {
    "collapsed": false
   },
   "outputs": [
    {
     "data": {
      "text/plain": [
       "                   A         B         C         D\n",
       "2015-01-01  0.657919       NaN  0.842869       NaN\n",
       "2015-01-02  0.483159       NaN       NaN       NaN\n",
       "2015-01-03       NaN       NaN       NaN       NaN\n",
       "2015-01-04       NaN       NaN       NaN       NaN\n",
       "2015-01-05       NaN       NaN  1.163860  0.852996\n",
       "2015-01-06  0.087206  0.692262       NaN       NaN\n",
       "2015-01-07  0.677980  2.010400       NaN       NaN\n",
       "2015-01-08  1.017174  0.106838  0.855558       NaN"
      ]
     },
     "execution_count": 38,
     "metadata": {},
     "output_type": "execute_result"
    }
   ],
   "source": [
    "df.where(df>0)"
   ]
  },
  {
   "cell_type": "markdown",
   "metadata": {},
   "source": [
    "#### But for Series there is a difference"
   ]
  },
  {
   "cell_type": "code",
   "execution_count": 36,
   "metadata": {
    "collapsed": false
   },
   "outputs": [
    {
     "data": {
      "text/plain": [
       "0    0\n",
       "1    1\n",
       "2    2\n",
       "3    3\n",
       "dtype: int64"
      ]
     },
     "execution_count": 36,
     "metadata": {},
     "output_type": "execute_result"
    }
   ],
   "source": [
    "s[s<4]"
   ]
  },
  {
   "cell_type": "code",
   "execution_count": 39,
   "metadata": {
    "collapsed": false
   },
   "outputs": [
    {
     "data": {
      "text/plain": [
       "0     0\n",
       "1     1\n",
       "2     2\n",
       "3     3\n",
       "4   NaN\n",
       "5   NaN\n",
       "dtype: float64"
      ]
     },
     "execution_count": 39,
     "metadata": {},
     "output_type": "execute_result"
    }
   ],
   "source": [
    "s.where(s<4)"
   ]
  },
  {
   "cell_type": "code",
   "execution_count": 48,
   "metadata": {
    "collapsed": false
   },
   "outputs": [
    {
     "data": {
      "text/plain": [
       "                   A         B         C         D\n",
       "2015-01-01  0.657919 -0.212726  0.842869 -1.366206\n",
       "2015-01-02  0.483159 -0.283143 -0.723116 -0.694739\n",
       "2015-01-03 -1.328146 -1.923179 -0.578999 -0.902172\n",
       "2015-01-04       NaN       NaN       NaN       NaN\n",
       "2015-01-05 -0.233025 -0.379335  1.163860  0.852996\n",
       "2015-01-06  0.087206  0.692262 -0.264934 -0.861378\n",
       "2015-01-07  0.677980  2.010400 -0.906443 -0.301450\n",
       "2015-01-08  1.017174  0.106838  0.855558 -0.666773"
      ]
     },
     "execution_count": 48,
     "metadata": {},
     "output_type": "execute_result"
    }
   ],
   "source": [
    "df2 = df.copy()\n",
    "df2"
   ]
  },
  {
   "cell_type": "code",
   "execution_count": 47,
   "metadata": {
    "collapsed": false
   },
   "outputs": [
    {
     "data": {
      "text/plain": [
       "                A      B      C      D\n",
       "2015-01-01  False   True  False   True\n",
       "2015-01-02  False   True   True   True\n",
       "2015-01-03   True   True   True   True\n",
       "2015-01-04  False  False  False  False\n",
       "2015-01-05   True   True  False  False\n",
       "2015-01-06  False  False   True   True\n",
       "2015-01-07  False  False   True   True\n",
       "2015-01-08  False  False  False   True"
      ]
     },
     "execution_count": 47,
     "metadata": {},
     "output_type": "execute_result"
    }
   ],
   "source": [
    "df2 < 0"
   ]
  },
  {
   "cell_type": "code",
   "execution_count": 45,
   "metadata": {
    "collapsed": false
   },
   "outputs": [
    {
     "data": {
      "text/plain": [
       "                   A         B         C         D\n",
       "2015-01-01  0.657919 -0.212726  0.842869 -1.366206\n",
       "2015-01-02  0.483159 -0.212726  0.842869 -1.366206\n",
       "2015-01-03  0.657919 -0.212726  0.842869 -1.366206\n",
       "2015-01-04  0.657919 -0.212726  0.842869 -1.366206\n",
       "2015-01-05  0.657919 -0.212726  1.163860  0.852996\n",
       "2015-01-06  0.087206  0.692262  0.842869 -1.366206\n",
       "2015-01-07  0.677980  2.010400  0.842869 -1.366206\n",
       "2015-01-08  1.017174  0.106838  0.855558 -1.366206"
      ]
     },
     "execution_count": 45,
     "metadata": {},
     "output_type": "execute_result"
    }
   ],
   "source": [
    "df2.where(df2>0,df2.iloc[0],axis=1)"
   ]
  }
 ],
 "metadata": {
  "kernelspec": {
   "display_name": "Python 3",
   "language": "python",
   "name": "python3"
  },
  "language_info": {
   "codemirror_mode": {
    "name": "ipython",
    "version": 3
   },
   "file_extension": ".py",
   "mimetype": "text/x-python",
   "name": "python",
   "nbconvert_exporter": "python",
   "pygments_lexer": "ipython3",
   "version": "3.4.3"
  }
 },
 "nbformat": 4,
 "nbformat_minor": 0
}
