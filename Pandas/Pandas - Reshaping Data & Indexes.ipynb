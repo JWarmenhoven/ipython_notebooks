{
 "cells": [
  {
   "cell_type": "code",
   "execution_count": 214,
   "metadata": {
    "collapsed": false
   },
   "outputs": [],
   "source": [
    "# %load ../standard_import.txt\n",
    "import pandas as pd\n",
    "import numpy as np\n",
    "import matplotlib.pyplot as plt\n",
    "\n",
    "pd.set_option('display.notebook_repr_html', False)\n",
    "pd.set_option('display.max_columns', None)\n",
    "pd.set_option('display.max_rows', 150)\n",
    "pd.set_option('display.max_seq_items', None)\n",
    "\n",
    "%matplotlib inline\n",
    "%config InlineBackend.figure_formats = {'svg',}\n",
    "\n",
    "#import seaborn as sns\n",
    "#sns.set_context('notebook')\n",
    "#sns.set_style('darkgrid')"
   ]
  },
  {
   "cell_type": "markdown",
   "metadata": {},
   "source": [
    "### Reshaping data: Melt & Pivot"
   ]
  },
  {
   "cell_type": "code",
   "execution_count": 215,
   "metadata": {
    "collapsed": false
   },
   "outputs": [
    {
     "name": "stdout",
     "output_type": "stream",
     "text": [
      "   Machine1  Machine2  Machine3 Operator\n",
      "0        53        61        51        A\n",
      "1        47        55        51        B\n",
      "2        46        52        49        C\n",
      "3        50        58        54        D\n",
      "4        49        54        50        E\n"
     ]
    }
   ],
   "source": [
    "df = pd.DataFrame({'Machine1':[53,47,46,50,49],\n",
    "                   'Machine2':[61,55,52,58,54],\n",
    "                   'Machine3':[51,51,49,54,50],\n",
    "                   'Operator':['A','B','C','D','E']})\n",
    "\n",
    "print(df)"
   ]
  },
  {
   "cell_type": "markdown",
   "metadata": {},
   "source": [
    "#### Melt: from wide to long"
   ]
  },
  {
   "cell_type": "code",
   "execution_count": 216,
   "metadata": {
    "collapsed": false
   },
   "outputs": [
    {
     "name": "stdout",
     "output_type": "stream",
     "text": [
      "   Operator  variable  value\n",
      "0         A  Machine1     53\n",
      "1         B  Machine1     47\n",
      "2         C  Machine1     46\n",
      "3         D  Machine1     50\n",
      "4         E  Machine1     49\n",
      "5         A  Machine2     61\n",
      "6         B  Machine2     55\n",
      "7         C  Machine2     52\n",
      "8         D  Machine2     58\n",
      "9         E  Machine2     54\n",
      "10        A  Machine3     51\n",
      "11        B  Machine3     51\n",
      "12        C  Machine3     49\n",
      "13        D  Machine3     54\n",
      "14        E  Machine3     50\n"
     ]
    }
   ],
   "source": [
    "molten_df = pd.melt(df, id_vars='Operator', value_vars=['Machine1', 'Machine2', 'Machine3'])\n",
    "print(molten_df)"
   ]
  },
  {
   "cell_type": "markdown",
   "metadata": {},
   "source": [
    "####  Pivot: from long to wide"
   ]
  },
  {
   "cell_type": "code",
   "execution_count": 217,
   "metadata": {
    "collapsed": false
   },
   "outputs": [
    {
     "name": "stdout",
     "output_type": "stream",
     "text": [
      "variable  Machine1  Machine2  Machine3\n",
      "Operator                              \n",
      "A               53        61        51\n",
      "B               47        55        51\n",
      "C               46        52        49\n",
      "D               50        58        54\n",
      "E               49        54        50\n"
     ]
    }
   ],
   "source": [
    "pivot_df = molten_df.pivot(index='Operator', columns='variable', values='value') # reverse above 'melt' operation\n",
    "print(pivot_df) # Operator is set as index, but this can be undone by 'reset_index'"
   ]
  },
  {
   "cell_type": "markdown",
   "metadata": {},
   "source": [
    "### Reshaping data: Stack & Unstack"
   ]
  },
  {
   "cell_type": "code",
   "execution_count": 218,
   "metadata": {
    "collapsed": false
   },
   "outputs": [
    {
     "data": {
      "text/plain": [
       "Machine type      OB11     HH90\n",
       "MachineID           M1  M2   M3\n",
       "Operator Facility              \n",
       "A        XX         53  47   46\n",
       "         YY         50  49   48\n",
       "B        XX         61  55   52\n",
       "         YY         58  54   57\n",
       "C        XX         51  51   49\n",
       "         YY         54  50   55"
      ]
     },
     "execution_count": 218,
     "metadata": {},
     "output_type": "execute_result"
    }
   ],
   "source": [
    "# Creating DataFrame with MultiIndexes on both axis\n",
    "idx1 = pd.MultiIndex.from_product([['A','B','C'],['XX', 'YY']], names=['Operator', 'Facility'])\n",
    "\n",
    "arrays = np.array(['OB11', 'OB11', 'HH90']), np.array(['M1', 'M2', 'M3'])\n",
    "idx2 = pd.MultiIndex.from_arrays(arrays, names=['Machine type', 'MachineID'])\n",
    "\n",
    "df2 = pd.DataFrame([[53,47,46],\n",
    "                   [50,49,48],\n",
    "                   [61,55,52],\n",
    "                   [58,54,57],\n",
    "                   [51,51,49],\n",
    "                   [54,50,55]], index=idx1, columns=idx2)\n",
    "df2"
   ]
  },
  {
   "cell_type": "markdown",
   "metadata": {},
   "source": [
    "#### Unstack : move an index to the columns"
   ]
  },
  {
   "cell_type": "code",
   "execution_count": 219,
   "metadata": {
    "collapsed": false
   },
   "outputs": [
    {
     "data": {
      "text/plain": [
       "Machine type OB11             HH90    \n",
       "MachineID      M1      M2       M3    \n",
       "Facility       XX  YY  XX  YY   XX  YY\n",
       "Operator                              \n",
       "A              53  50  47  49   46  48\n",
       "B              61  58  55  54   52  57\n",
       "C              51  54  51  50   49  55"
      ]
     },
     "execution_count": 219,
     "metadata": {},
     "output_type": "execute_result"
    }
   ],
   "source": [
    "df2.unstack() #by default pandas unstacks last level (Facility in this case)"
   ]
  },
  {
   "cell_type": "code",
   "execution_count": 229,
   "metadata": {
    "collapsed": false
   },
   "outputs": [
    {
     "data": {
      "text/plain": [
       "Machine type OB11                     HH90        \n",
       "MachineID      M1          M2           M3        \n",
       "Operator        A   B   C   A   B   C    A   B   C\n",
       "Facility                                          \n",
       "XX             53  61  51  47  55  51   46  52  49\n",
       "YY             50  58  54  49  54  50   48  57  55"
      ]
     },
     "execution_count": 229,
     "metadata": {},
     "output_type": "execute_result"
    }
   ],
   "source": [
    "df2.unstack('Operator')"
   ]
  },
  {
   "cell_type": "code",
   "execution_count": 238,
   "metadata": {
    "collapsed": false
   },
   "outputs": [
    {
     "data": {
      "text/plain": [
       "Machine type  MachineID  Facility  Operator\n",
       "OB11          M1         XX        A           53\n",
       "                                   B           61\n",
       "                                   C           51\n",
       "                         YY        A           50\n",
       "                                   B           58\n",
       "                                   C           54\n",
       "              M2         XX        A           47\n",
       "                                   B           55\n",
       "                                   C           51\n",
       "                         YY        A           49\n",
       "                                   B           54\n",
       "                                   C           50\n",
       "HH90          M3         XX        A           46\n",
       "                                   B           52\n",
       "                                   C           49\n",
       "                         YY        A           48\n",
       "                                   B           57\n",
       "                                   C           55\n",
       "dtype: int64"
      ]
     },
     "execution_count": 238,
     "metadata": {},
     "output_type": "execute_result"
    }
   ],
   "source": [
    "# unstack all levels passing a list of level numbers. Identical to: df2.unstack(['Facility', 'Operator'])\n",
    "df2.unstack([1,0])"
   ]
  },
  {
   "cell_type": "markdown",
   "metadata": {},
   "source": [
    "#### Stack: move a column into the index"
   ]
  },
  {
   "cell_type": "code",
   "execution_count": 221,
   "metadata": {
    "collapsed": false
   },
   "outputs": [
    {
     "data": {
      "text/plain": [
       "Machine type                 HH90  OB11\n",
       "Operator Facility MachineID            \n",
       "A        XX       M1          NaN    53\n",
       "                  M2          NaN    47\n",
       "                  M3           46   NaN\n",
       "         YY       M1          NaN    50\n",
       "                  M2          NaN    49\n",
       "                  M3           48   NaN\n",
       "B        XX       M1          NaN    61\n",
       "                  M2          NaN    55\n",
       "                  M3           52   NaN\n",
       "         YY       M1          NaN    58\n",
       "                  M2          NaN    54\n",
       "                  M3           57   NaN\n",
       "C        XX       M1          NaN    51\n",
       "                  M2          NaN    51\n",
       "                  M3           49   NaN\n",
       "         YY       M1          NaN    54\n",
       "                  M2          NaN    50\n",
       "                  M3           55   NaN"
      ]
     },
     "execution_count": 221,
     "metadata": {},
     "output_type": "execute_result"
    }
   ],
   "source": [
    "df2.stack() #by default pandas unstacks last level (MachineID in this case)"
   ]
  },
  {
   "cell_type": "code",
   "execution_count": 222,
   "metadata": {
    "collapsed": false
   },
   "outputs": [
    {
     "data": {
      "text/plain": [
       "MachineID                       M1  M2  M3\n",
       "Operator Facility Machine type            \n",
       "A        XX       HH90         NaN NaN  46\n",
       "                  OB11          53  47 NaN\n",
       "         YY       HH90         NaN NaN  48\n",
       "                  OB11          50  49 NaN\n",
       "B        XX       HH90         NaN NaN  52\n",
       "                  OB11          61  55 NaN\n",
       "         YY       HH90         NaN NaN  57\n",
       "                  OB11          58  54 NaN\n",
       "C        XX       HH90         NaN NaN  49\n",
       "                  OB11          51  51 NaN\n",
       "         YY       HH90         NaN NaN  55\n",
       "                  OB11          54  50 NaN"
      ]
     },
     "execution_count": 222,
     "metadata": {},
     "output_type": "execute_result"
    }
   ],
   "source": [
    "df2.stack(0)"
   ]
  },
  {
   "cell_type": "code",
   "execution_count": 223,
   "metadata": {
    "collapsed": false
   },
   "outputs": [
    {
     "data": {
      "text/plain": [
       "Operator  Facility  Machine type  MachineID\n",
       "A         XX        HH90          M3           46\n",
       "                    OB11          M1           53\n",
       "                                  M2           47\n",
       "          YY        HH90          M3           48\n",
       "                    OB11          M1           50\n",
       "                                  M2           49\n",
       "B         XX        HH90          M3           52\n",
       "                    OB11          M1           61\n",
       "                                  M2           55\n",
       "          YY        HH90          M3           57\n",
       "                    OB11          M1           58\n",
       "                                  M2           54\n",
       "C         XX        HH90          M3           49\n",
       "                    OB11          M1           51\n",
       "                                  M2           51\n",
       "          YY        HH90          M3           55\n",
       "                    OB11          M1           54\n",
       "                                  M2           50\n",
       "dtype: float64"
      ]
     },
     "execution_count": 223,
     "metadata": {},
     "output_type": "execute_result"
    }
   ],
   "source": [
    "df2.stack([0,1]) # unstacking all levels (Machine type and MachineID)"
   ]
  },
  {
   "cell_type": "markdown",
   "metadata": {},
   "source": [
    "### Swapping index hierarchies (rows & columns)"
   ]
  },
  {
   "cell_type": "code",
   "execution_count": 224,
   "metadata": {
    "collapsed": false
   },
   "outputs": [
    {
     "data": {
      "text/plain": [
       "Machine type      OB11     HH90\n",
       "MachineID           M1  M2   M3\n",
       "Operator Facility              \n",
       "A        XX         53  47   46\n",
       "         YY         50  49   48\n",
       "B        XX         61  55   52\n",
       "         YY         58  54   57\n",
       "C        XX         51  51   49\n",
       "         YY         54  50   55"
      ]
     },
     "execution_count": 224,
     "metadata": {},
     "output_type": "execute_result"
    }
   ],
   "source": [
    "df2"
   ]
  },
  {
   "cell_type": "code",
   "execution_count": 225,
   "metadata": {
    "collapsed": false
   },
   "outputs": [
    {
     "data": {
      "text/plain": [
       "Machine type      OB11     HH90\n",
       "MachineID           M1  M2   M3\n",
       "Facility Operator              \n",
       "XX       A          53  47   46\n",
       "YY       A          50  49   48\n",
       "XX       B          61  55   52\n",
       "YY       B          58  54   57\n",
       "XX       C          51  51   49\n",
       "YY       C          54  50   55"
      ]
     },
     "execution_count": 225,
     "metadata": {},
     "output_type": "execute_result"
    }
   ],
   "source": [
    "# Swap the indexes on the rows using the index position/number. \n",
    "df2.swaplevel(0,1)"
   ]
  },
  {
   "cell_type": "code",
   "execution_count": 226,
   "metadata": {
    "collapsed": false
   },
   "outputs": [
    {
     "data": {
      "text/plain": [
       "MachineID           M1   M2   M3\n",
       "Machine type      OB11 OB11 HH90\n",
       "Operator Facility               \n",
       "A        XX         53   47   46\n",
       "         YY         50   49   48\n",
       "B        XX         61   55   52\n",
       "         YY         58   54   57\n",
       "C        XX         51   51   49\n",
       "         YY         54   50   55"
      ]
     },
     "execution_count": 226,
     "metadata": {},
     "output_type": "execute_result"
    }
   ],
   "source": [
    "# Swap the indexes on the columns using the labels. By default, the function swaps levels on row index. That's\n",
    "# why you need to explicitly indicate the column axis in this case.\n",
    "df2.swaplevel('Machine type', 'MachineID', axis=1)"
   ]
  }
 ],
 "metadata": {
  "kernelspec": {
   "display_name": "Python 3",
   "language": "python",
   "name": "python3"
  },
  "language_info": {
   "codemirror_mode": {
    "name": "ipython",
    "version": 3
   },
   "file_extension": ".py",
   "mimetype": "text/x-python",
   "name": "python",
   "nbconvert_exporter": "python",
   "pygments_lexer": "ipython3",
   "version": "3.4.3"
  }
 },
 "nbformat": 4,
 "nbformat_minor": 0
}
